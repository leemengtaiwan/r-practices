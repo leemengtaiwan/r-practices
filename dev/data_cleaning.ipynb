{
 "cells": [
  {
   "cell_type": "code",
   "execution_count": 1,
   "metadata": {},
   "outputs": [],
   "source": [
    "import pandas as pd"
   ]
  },
  {
   "cell_type": "markdown",
   "metadata": {},
   "source": [
    "## Load data"
   ]
  },
  {
   "cell_type": "code",
   "execution_count": 29,
   "metadata": {},
   "outputs": [],
   "source": [
    "file_name = '歷年來台旅客統計'"
   ]
  },
  {
   "cell_type": "code",
   "execution_count": 30,
   "metadata": {},
   "outputs": [
    {
     "data": {
      "text/html": [
       "<div>\n",
       "<style scoped>\n",
       "    .dataframe tbody tr th:only-of-type {\n",
       "        vertical-align: middle;\n",
       "    }\n",
       "\n",
       "    .dataframe tbody tr th {\n",
       "        vertical-align: top;\n",
       "    }\n",
       "\n",
       "    .dataframe thead th {\n",
       "        text-align: right;\n",
       "    }\n",
       "</style>\n",
       "<table border=\"1\" class=\"dataframe\">\n",
       "  <thead>\n",
       "    <tr style=\"text-align: right;\">\n",
       "      <th></th>\n",
       "      <th>年別</th>\n",
       "      <th>總計人數</th>\n",
       "      <th>總計成長率</th>\n",
       "      <th>總計指數</th>\n",
       "      <th>外籍旅客人數</th>\n",
       "      <th>外籍旅客成長率</th>\n",
       "      <th>外籍旅客占總計百分比</th>\n",
       "      <th>華僑旅客人數</th>\n",
       "      <th>華僑旅客成長率</th>\n",
       "      <th>華僑旅客占總計百分比</th>\n",
       "    </tr>\n",
       "  </thead>\n",
       "  <tbody>\n",
       "    <tr>\n",
       "      <th>0</th>\n",
       "      <td>1956</td>\n",
       "      <td>14,974</td>\n",
       "      <td>-</td>\n",
       "      <td>0.81</td>\n",
       "      <td>11,734</td>\n",
       "      <td>-</td>\n",
       "      <td>78.36</td>\n",
       "      <td>3,240</td>\n",
       "      <td>-</td>\n",
       "      <td>21.64</td>\n",
       "    </tr>\n",
       "    <tr>\n",
       "      <th>1</th>\n",
       "      <td>1957</td>\n",
       "      <td>18,159</td>\n",
       "      <td>21.27</td>\n",
       "      <td>0.98</td>\n",
       "      <td>14,068</td>\n",
       "      <td>19.89</td>\n",
       "      <td>77.47</td>\n",
       "      <td>4,091</td>\n",
       "      <td>26.27</td>\n",
       "      <td>22.53</td>\n",
       "    </tr>\n",
       "    <tr>\n",
       "      <th>2</th>\n",
       "      <td>1958</td>\n",
       "      <td>16,709</td>\n",
       "      <td>-7.99</td>\n",
       "      <td>0.90</td>\n",
       "      <td>15,557</td>\n",
       "      <td>10.58</td>\n",
       "      <td>93.11</td>\n",
       "      <td>1,152</td>\n",
       "      <td>-71.84</td>\n",
       "      <td>6.89</td>\n",
       "    </tr>\n",
       "    <tr>\n",
       "      <th>3</th>\n",
       "      <td>1959</td>\n",
       "      <td>19,328</td>\n",
       "      <td>15.67</td>\n",
       "      <td>1.04</td>\n",
       "      <td>17,634</td>\n",
       "      <td>13.35</td>\n",
       "      <td>91.24</td>\n",
       "      <td>1,694</td>\n",
       "      <td>47.05</td>\n",
       "      <td>8.76</td>\n",
       "    </tr>\n",
       "    <tr>\n",
       "      <th>4</th>\n",
       "      <td>1960</td>\n",
       "      <td>23,636</td>\n",
       "      <td>22.29</td>\n",
       "      <td>1.27</td>\n",
       "      <td>20,796</td>\n",
       "      <td>17.93</td>\n",
       "      <td>87.98</td>\n",
       "      <td>2,840</td>\n",
       "      <td>67.65</td>\n",
       "      <td>12.02</td>\n",
       "    </tr>\n",
       "  </tbody>\n",
       "</table>\n",
       "</div>"
      ],
      "text/plain": [
       "     年別    總計人數  總計成長率  總計指數  外籍旅客人數 外籍旅客成長率  外籍旅客占總計百分比 華僑旅客人數 華僑旅客成長率  \\\n",
       "0  1956  14,974      -  0.81  11,734       -       78.36  3,240       -   \n",
       "1  1957  18,159  21.27  0.98  14,068   19.89       77.47  4,091   26.27   \n",
       "2  1958  16,709  -7.99  0.90  15,557   10.58       93.11  1,152  -71.84   \n",
       "3  1959  19,328  15.67  1.04  17,634   13.35       91.24  1,694   47.05   \n",
       "4  1960  23,636  22.29  1.27  20,796   17.93       87.98  2,840   67.65   \n",
       "\n",
       "   華僑旅客占總計百分比  \n",
       "0       21.64  \n",
       "1       22.53  \n",
       "2        6.89  \n",
       "3        8.76  \n",
       "4       12.02  "
      ]
     },
     "execution_count": 30,
     "metadata": {},
     "output_type": "execute_result"
    }
   ],
   "source": [
    "df = pd.read_csv(f'{file_name}.csv', encoding='cp950')\n",
    "df.head()"
   ]
  },
  {
   "cell_type": "markdown",
   "metadata": {},
   "source": [
    "## Remove invalid rows"
   ]
  },
  {
   "cell_type": "code",
   "execution_count": 31,
   "metadata": {},
   "outputs": [
    {
     "data": {
      "text/html": [
       "<div>\n",
       "<style scoped>\n",
       "    .dataframe tbody tr th:only-of-type {\n",
       "        vertical-align: middle;\n",
       "    }\n",
       "\n",
       "    .dataframe tbody tr th {\n",
       "        vertical-align: top;\n",
       "    }\n",
       "\n",
       "    .dataframe thead th {\n",
       "        text-align: right;\n",
       "    }\n",
       "</style>\n",
       "<table border=\"1\" class=\"dataframe\">\n",
       "  <thead>\n",
       "    <tr style=\"text-align: right;\">\n",
       "      <th></th>\n",
       "      <th>年別</th>\n",
       "      <th>總計人數</th>\n",
       "      <th>總計成長率</th>\n",
       "      <th>總計指數</th>\n",
       "      <th>外籍旅客人數</th>\n",
       "      <th>外籍旅客成長率</th>\n",
       "      <th>外籍旅客占總計百分比</th>\n",
       "      <th>華僑旅客人數</th>\n",
       "      <th>華僑旅客成長率</th>\n",
       "      <th>華僑旅客占總計百分比</th>\n",
       "    </tr>\n",
       "  </thead>\n",
       "  <tbody>\n",
       "    <tr>\n",
       "      <th>1</th>\n",
       "      <td>1957</td>\n",
       "      <td>18,159</td>\n",
       "      <td>21.27</td>\n",
       "      <td>0.98</td>\n",
       "      <td>14,068</td>\n",
       "      <td>19.89</td>\n",
       "      <td>77.47</td>\n",
       "      <td>4,091</td>\n",
       "      <td>26.27</td>\n",
       "      <td>22.53</td>\n",
       "    </tr>\n",
       "    <tr>\n",
       "      <th>2</th>\n",
       "      <td>1958</td>\n",
       "      <td>16,709</td>\n",
       "      <td>-7.99</td>\n",
       "      <td>0.90</td>\n",
       "      <td>15,557</td>\n",
       "      <td>10.58</td>\n",
       "      <td>93.11</td>\n",
       "      <td>1,152</td>\n",
       "      <td>-71.84</td>\n",
       "      <td>6.89</td>\n",
       "    </tr>\n",
       "    <tr>\n",
       "      <th>3</th>\n",
       "      <td>1959</td>\n",
       "      <td>19,328</td>\n",
       "      <td>15.67</td>\n",
       "      <td>1.04</td>\n",
       "      <td>17,634</td>\n",
       "      <td>13.35</td>\n",
       "      <td>91.24</td>\n",
       "      <td>1,694</td>\n",
       "      <td>47.05</td>\n",
       "      <td>8.76</td>\n",
       "    </tr>\n",
       "    <tr>\n",
       "      <th>4</th>\n",
       "      <td>1960</td>\n",
       "      <td>23,636</td>\n",
       "      <td>22.29</td>\n",
       "      <td>1.27</td>\n",
       "      <td>20,796</td>\n",
       "      <td>17.93</td>\n",
       "      <td>87.98</td>\n",
       "      <td>2,840</td>\n",
       "      <td>67.65</td>\n",
       "      <td>12.02</td>\n",
       "    </tr>\n",
       "    <tr>\n",
       "      <th>5</th>\n",
       "      <td>1961</td>\n",
       "      <td>42,205</td>\n",
       "      <td>78.56</td>\n",
       "      <td>2.28</td>\n",
       "      <td>34,831</td>\n",
       "      <td>67.49</td>\n",
       "      <td>82.53</td>\n",
       "      <td>7,374</td>\n",
       "      <td>159.65</td>\n",
       "      <td>17.47</td>\n",
       "    </tr>\n",
       "  </tbody>\n",
       "</table>\n",
       "</div>"
      ],
      "text/plain": [
       "     年別    總計人數  總計成長率  總計指數  外籍旅客人數 外籍旅客成長率  外籍旅客占總計百分比 華僑旅客人數 華僑旅客成長率  \\\n",
       "1  1957  18,159  21.27  0.98  14,068   19.89       77.47  4,091   26.27   \n",
       "2  1958  16,709  -7.99  0.90  15,557   10.58       93.11  1,152  -71.84   \n",
       "3  1959  19,328  15.67  1.04  17,634   13.35       91.24  1,694   47.05   \n",
       "4  1960  23,636  22.29  1.27  20,796   17.93       87.98  2,840   67.65   \n",
       "5  1961  42,205  78.56  2.28  34,831   67.49       82.53  7,374  159.65   \n",
       "\n",
       "   華僑旅客占總計百分比  \n",
       "1       22.53  \n",
       "2        6.89  \n",
       "3        8.76  \n",
       "4       12.02  \n",
       "5       17.47  "
      ]
     },
     "execution_count": 31,
     "metadata": {},
     "output_type": "execute_result"
    }
   ],
   "source": [
    "df = df.iloc[1:]\n",
    "df.head()"
   ]
  },
  {
   "cell_type": "markdown",
   "metadata": {},
   "source": [
    "## Format number-like strings to real numbers"
   ]
  },
  {
   "cell_type": "code",
   "execution_count": 32,
   "metadata": {},
   "outputs": [
    {
     "data": {
      "text/html": [
       "<div>\n",
       "<style scoped>\n",
       "    .dataframe tbody tr th:only-of-type {\n",
       "        vertical-align: middle;\n",
       "    }\n",
       "\n",
       "    .dataframe tbody tr th {\n",
       "        vertical-align: top;\n",
       "    }\n",
       "\n",
       "    .dataframe thead th {\n",
       "        text-align: right;\n",
       "    }\n",
       "</style>\n",
       "<table border=\"1\" class=\"dataframe\">\n",
       "  <thead>\n",
       "    <tr style=\"text-align: right;\">\n",
       "      <th></th>\n",
       "      <th>年別</th>\n",
       "      <th>總計人數</th>\n",
       "      <th>總計成長率</th>\n",
       "      <th>總計指數</th>\n",
       "      <th>外籍旅客人數</th>\n",
       "      <th>外籍旅客成長率</th>\n",
       "      <th>外籍旅客占總計百分比</th>\n",
       "      <th>華僑旅客人數</th>\n",
       "      <th>華僑旅客成長率</th>\n",
       "      <th>華僑旅客占總計百分比</th>\n",
       "    </tr>\n",
       "  </thead>\n",
       "  <tbody>\n",
       "    <tr>\n",
       "      <th>1</th>\n",
       "      <td>1957</td>\n",
       "      <td>18159</td>\n",
       "      <td>21.27</td>\n",
       "      <td>0.98</td>\n",
       "      <td>14068</td>\n",
       "      <td>19.89</td>\n",
       "      <td>77.47</td>\n",
       "      <td>4091</td>\n",
       "      <td>26.27</td>\n",
       "      <td>22.53</td>\n",
       "    </tr>\n",
       "    <tr>\n",
       "      <th>2</th>\n",
       "      <td>1958</td>\n",
       "      <td>16709</td>\n",
       "      <td>-7.99</td>\n",
       "      <td>0.90</td>\n",
       "      <td>15557</td>\n",
       "      <td>10.58</td>\n",
       "      <td>93.11</td>\n",
       "      <td>1152</td>\n",
       "      <td>-71.84</td>\n",
       "      <td>6.89</td>\n",
       "    </tr>\n",
       "    <tr>\n",
       "      <th>3</th>\n",
       "      <td>1959</td>\n",
       "      <td>19328</td>\n",
       "      <td>15.67</td>\n",
       "      <td>1.04</td>\n",
       "      <td>17634</td>\n",
       "      <td>13.35</td>\n",
       "      <td>91.24</td>\n",
       "      <td>1694</td>\n",
       "      <td>47.05</td>\n",
       "      <td>8.76</td>\n",
       "    </tr>\n",
       "    <tr>\n",
       "      <th>4</th>\n",
       "      <td>1960</td>\n",
       "      <td>23636</td>\n",
       "      <td>22.29</td>\n",
       "      <td>1.27</td>\n",
       "      <td>20796</td>\n",
       "      <td>17.93</td>\n",
       "      <td>87.98</td>\n",
       "      <td>2840</td>\n",
       "      <td>67.65</td>\n",
       "      <td>12.02</td>\n",
       "    </tr>\n",
       "    <tr>\n",
       "      <th>5</th>\n",
       "      <td>1961</td>\n",
       "      <td>42205</td>\n",
       "      <td>78.56</td>\n",
       "      <td>2.28</td>\n",
       "      <td>34831</td>\n",
       "      <td>67.49</td>\n",
       "      <td>82.53</td>\n",
       "      <td>7374</td>\n",
       "      <td>159.65</td>\n",
       "      <td>17.47</td>\n",
       "    </tr>\n",
       "  </tbody>\n",
       "</table>\n",
       "</div>"
      ],
      "text/plain": [
       "     年別   總計人數  總計成長率  總計指數  外籍旅客人數  外籍旅客成長率  外籍旅客占總計百分比  華僑旅客人數  華僑旅客成長率  \\\n",
       "1  1957  18159  21.27  0.98   14068    19.89       77.47    4091    26.27   \n",
       "2  1958  16709  -7.99  0.90   15557    10.58       93.11    1152   -71.84   \n",
       "3  1959  19328  15.67  1.04   17634    13.35       91.24    1694    47.05   \n",
       "4  1960  23636  22.29  1.27   20796    17.93       87.98    2840    67.65   \n",
       "5  1961  42205  78.56  2.28   34831    67.49       82.53    7374   159.65   \n",
       "\n",
       "   華僑旅客占總計百分比  \n",
       "1       22.53  \n",
       "2        6.89  \n",
       "3        8.76  \n",
       "4       12.02  \n",
       "5       17.47  "
      ]
     },
     "execution_count": 32,
     "metadata": {},
     "output_type": "execute_result"
    }
   ],
   "source": [
    "def numberize(col):\n",
    "    cname = col.name\n",
    "    if '百分比' in cname or '率' in cname or '指數' in cname:\n",
    "        return col.astype(float)\n",
    "    else:\n",
    "        return col.apply(lambda x: int(str(x).replace(',', '')))\n",
    "\n",
    "df = df.apply(numberize, axis=0)\n",
    "df.head()"
   ]
  },
  {
   "cell_type": "markdown",
   "metadata": {},
   "source": [
    "## Remove unnecessary columns "
   ]
  },
  {
   "cell_type": "code",
   "execution_count": 37,
   "metadata": {},
   "outputs": [
    {
     "data": {
      "text/plain": [
       "Index(['年別', '總計人數', '總計成長率', '總計指數', '外籍旅客人數', '外籍旅客成長率', '外籍旅客占總計百分比',\n",
       "       '華僑旅客人數', '華僑旅客成長率', '華僑旅客占總計百分比'],\n",
       "      dtype='object')"
      ]
     },
     "execution_count": 37,
     "metadata": {},
     "output_type": "execute_result"
    }
   ],
   "source": [
    "df.columns"
   ]
  },
  {
   "cell_type": "code",
   "execution_count": 38,
   "metadata": {},
   "outputs": [
    {
     "data": {
      "text/plain": [
       "['年別', '總計人數', '外籍旅客人數', '華僑旅客人數']"
      ]
     },
     "execution_count": 38,
     "metadata": {},
     "output_type": "execute_result"
    }
   ],
   "source": [
    "cols = [col for col in df.columns if '年別' in col or '人數' in col]\n",
    "cols"
   ]
  },
  {
   "cell_type": "markdown",
   "metadata": {},
   "source": [
    "## Save result"
   ]
  },
  {
   "cell_type": "code",
   "execution_count": 39,
   "metadata": {},
   "outputs": [],
   "source": [
    "df[cols].to_csv(f\"{file_name}_clean.csv\", index=False)"
   ]
  }
 ],
 "metadata": {
  "kernelspec": {
   "display_name": "Python 3",
   "language": "python",
   "name": "python3"
  },
  "language_info": {
   "codemirror_mode": {
    "name": "ipython",
    "version": 3
   },
   "file_extension": ".py",
   "mimetype": "text/x-python",
   "name": "python",
   "nbconvert_exporter": "python",
   "pygments_lexer": "ipython3",
   "version": "3.6.3"
  }
 },
 "nbformat": 4,
 "nbformat_minor": 2
}
