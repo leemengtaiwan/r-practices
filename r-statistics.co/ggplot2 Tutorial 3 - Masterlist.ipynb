{
 "cells": [
  {
   "cell_type": "markdown",
   "metadata": {},
   "source": [
    "要實際做 visualization 之前，先看想要描述/實驗的「關係」選擇對的圖表。另外在利用 aesthetics 增加 data ink ratio 時要注意不要做太過頭導致 data overload。\n",
    "\n",
    "Reference：http://r-statistics.co/Top50-Ggplot2-Visualizations-MasterList-R-Code.html"
   ]
  },
  {
   "cell_type": "markdown",
   "metadata": {},
   "source": [
    "# Correlation\n",
    "\n",
    "- **Scatter Plot**: 基本看兩個 numerical variables 的相關性\n",
    "- 同時呈現 var 分佈：**Marginal Histogram / Boxplot**\n",
    "- 當想看的 variable 有一個（或以上）是 integer 導致點可能重複時，可以使用：\n",
    "    - **Jitter Plot**\n",
    "    - **Counts Chart**\n",
    "- 當有想拿來比較的其他維度資料： **(Animated) Bubble Chart**\n",
    "    - 利用 color and/or shape aesthetics 來增加 data ink\n",
    "    - 額外的維度如何呈現：\n",
    "        - Categorical variable: color\n",
    "        - Numerical variable: shape\n",
    "        - Time: gganimate\n",
    "- Correlation matrix: **Correlogram**"
   ]
  },
  {
   "cell_type": "markdown",
   "metadata": {},
   "source": [
    "# Deviation\n",
    "選定一個固定值（平均、Ｚ值 etc）， visualzie 所有數值跟它的差異\n",
    "- 基本款：**Diverging Bars**\n",
    "- 現代感：**Diverging Lollipop Chart**\n",
    "- **Diverging Dot Plot**\n",
    "- 用來比較 % 差異：**Area Chart**"
   ]
  },
  {
   "cell_type": "markdown",
   "metadata": {},
   "source": []
  }
 ],
 "metadata": {
  "kernelspec": {
   "display_name": "R",
   "language": "R",
   "name": "ir"
  },
  "language_info": {
   "codemirror_mode": "r",
   "file_extension": ".r",
   "mimetype": "text/x-r-source",
   "name": "R",
   "pygments_lexer": "r",
   "version": "3.4.3"
  }
 },
 "nbformat": 4,
 "nbformat_minor": 2
}
