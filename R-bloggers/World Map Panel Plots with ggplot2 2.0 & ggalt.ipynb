{
 "cells": [
  {
   "cell_type": "markdown",
   "metadata": {},
   "source": [
    "# World Map Panel Plots with ggplot2 2.0 & ggalt\n",
    "Blog:\n",
    "- https://www.r-bloggers.com/world-map-panel-plots-with-ggplot2-2-0-ggalt/"
   ]
  },
  {
   "cell_type": "code",
   "execution_count": 4,
   "metadata": {},
   "outputs": [
    {
     "name": "stderr",
     "output_type": "stream",
     "text": [
      "also installing the dependencies ‘Rttf2pt1’, ‘proj4’, ‘extrafont’\n",
      "\n",
      "Warning message in install.packages(\"ggalt\"):\n",
      "“installation of package ‘Rttf2pt1’ had non-zero exit status”Warning message in install.packages(\"ggalt\"):\n",
      "“installation of package ‘proj4’ had non-zero exit status”Warning message in install.packages(\"ggalt\"):\n",
      "“installation of package ‘extrafont’ had non-zero exit status”Warning message in install.packages(\"ggalt\"):\n",
      "“installation of package ‘ggalt’ had non-zero exit status”Updating HTML index of packages in '.Library'\n",
      "Making 'packages.html' ... done\n"
     ]
    }
   ],
   "source": [
    "install.packages(\"ggalt\")"
   ]
  },
  {
   "cell_type": "code",
   "execution_count": 2,
   "metadata": {},
   "outputs": [
    {
     "name": "stderr",
     "output_type": "stream",
     "text": [
      "Warning message:\n",
      "“Ignoring unknown aesthetics: x, y”"
     ]
    },
    {
     "ename": "ERROR",
     "evalue": "Error in coord_proj(\"+proj=wintri\"):  関数 \"coord_proj\" を見つけることができませんでした \n",
     "execution_count": 2,
     "output_type": "error",
     "traceback": [
      "Error in coord_proj(\"+proj=wintri\"):  関数 \"coord_proj\" を見つけることができませんでした \nTraceback:\n"
     ]
    }
   ],
   "source": [
    "library(ggplot2)  # FYI you need v2.0\n",
    "library(dplyr)    # yes, i could have not done this and just used 'subset' instead of 'filter'\n",
    "# library(ggalt)    # devtools::install_github(\"hrbrmstr/ggalt\")\n",
    "library(ggthemes) # theme_map and tableau colors\n",
    " \n",
    "world <- map_data(\"world\")\n",
    "world <- world[world$region != \"Antarctica\",] # intercourse antarctica\n",
    " \n",
    "dat <- read.csv(\"datasets/CLIWOC15.csv\")        # having factors here by default isn't a bad thing\n",
    "dat <- filter(dat, Nation != \"Sweden\") # I kinda feel bad for Sweden but 4 panels look better than 5 and it doesn't have much data\n",
    " \n",
    "gg <- ggplot()\n",
    "gg <- gg + geom_map(data=world, map=world,\n",
    "                    aes(x=long, y=lat, map_id=region),\n",
    "                    color=\"white\", fill=\"#7f7f7f\", size=0.05, alpha=1/4)\n",
    "gg <- gg + geom_point(data=dat, \n",
    "                      aes(x=Lon3, y=Lat3, color=Nation), \n",
    "                      size=0.15, alpha=1/100)\n",
    "gg <- gg + scale_color_tableau()\n",
    "gg <- gg + coord_proj(\"+proj=wintri\")\n",
    "gg <- gg + facet_wrap(~Nation)\n",
    "gg <- gg + theme_map()\n",
    "gg <- gg + theme(strip.background=element_blank())\n",
    "gg <- gg + theme(legend.position=\"none\")\n",
    "gg\n"
   ]
  },
  {
   "cell_type": "code",
   "execution_count": null,
   "metadata": {},
   "outputs": [],
   "source": [
    "install_g"
   ]
  }
 ],
 "metadata": {
  "kernelspec": {
   "display_name": "R",
   "language": "R",
   "name": "ir"
  },
  "language_info": {
   "codemirror_mode": "r",
   "file_extension": ".r",
   "mimetype": "text/x-r-source",
   "name": "R",
   "pygments_lexer": "r",
   "version": "3.4.3"
  }
 },
 "nbformat": 4,
 "nbformat_minor": 2
}
